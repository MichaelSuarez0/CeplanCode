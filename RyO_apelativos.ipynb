{
 "cells": [
  {
   "cell_type": "code",
   "execution_count": 2,
   "metadata": {},
   "outputs": [],
   "source": [
    "import pandas as pd\n",
    "import unidecode\n",
    "import openpyxl\n",
    "import os"
   ]
  },
  {
   "cell_type": "markdown",
   "metadata": {},
   "source": [
    "## 1. Abrir las bases de datos"
   ]
  },
  {
   "cell_type": "code",
   "execution_count": 8,
   "metadata": {},
   "outputs": [
    {
     "name": "stdout",
     "output_type": "stream",
     "text": [
      "        Bloque Apelativo                  Nombre completo  \\\n",
      "0     Bloque 1       Sr.             Aaron Tuesta Sanchez   \n",
      "1     Bloque 1       Sr.             Abad Cornejo Escobar   \n",
      "2     Bloque 1       Sr.     Abanto Duran Roger Francisco   \n",
      "3     Bloque 1       Sr.  Abanto Justo Miranda Ravichagua   \n",
      "4     Bloque 1       Sr.     Abdel Alberto Arroyo Aguilar   \n",
      "...        ...       ...                              ...   \n",
      "7843  Bloque 3       NaN                  Yvanir Castillo   \n",
      "7844  Bloque 3       NaN           Zaida Huarachi Guzman    \n",
      "7845  Bloque 3       NaN        Zaira Joyce  Bravo Ravelo   \n",
      "7846  Bloque 3       NaN         Zoila Rosa Rios Mimbela    \n",
      "7847  Bloque 3       NaN    Zoraida Nery Velasquez Julcaa   \n",
      "\n",
      "                Correo electrónico 1         Tipo  \\\n",
      "0                   op01@mimp.gob.pe      PÚBLICO   \n",
      "1     abad.cornejo@aguatumbes.gob.pe      PÚBLICO   \n",
      "2             frannis969@hotmail.com      PRIVADO   \n",
      "3              abanto63111@gmail.com      PÚBLICO   \n",
      "4              aarroyoa@unmsm.edu.pe  UNIVERSIDAD   \n",
      "...                              ...          ...   \n",
      "7843       castillo.yvanir@gmail.com      Público   \n",
      "7844        zhuarachiri@peblt.gob.pe      Público   \n",
      "7845      zbravo@ugelhuancayo.gob.pe      Público   \n",
      "7846         riosmimbela64@gmail.com      Público   \n",
      "7847      velasquezjulca@outlook.com      Público   \n",
      "\n",
      "                          Intitución a la que pertenece  \\\n",
      "0                                              Sinaplan   \n",
      "1                                              Sinaplan   \n",
      "2                      Universidad Nacional de Trujillo   \n",
      "3                                              Sinaplan   \n",
      "4              UNIVERSIDAD NACIONAL MAYOR DE SAN MARCOS   \n",
      "...                                                 ...   \n",
      "7843  Gobierno Regional de la Provincia Constitucion...   \n",
      "7844                   M. de Desarrollo Agrario y Riego   \n",
      "7845        Gobierno Regional Del Departamento De Junin   \n",
      "7846       Gobierno Regional del Departamento de Ancash   \n",
      "7847                 Municipalidad Distrital de Shunqui   \n",
      "\n",
      "                                                  CARGO  \n",
      "0                                                   NaN  \n",
      "1                                                   NaN  \n",
      "2                                                   NaN  \n",
      "3                                                   NaN  \n",
      "4                                                   NaN  \n",
      "...                                                 ...  \n",
      "7843                                       Especialista  \n",
      "7844  Director de la Oficina de Programación, Presup...  \n",
      "7845                                 Esp. Planificación  \n",
      "7846                                      Panificador I  \n",
      "7847              Jefe y/o Gerente Oficina Planeamiento  \n",
      "\n",
      "[7848 rows x 7 columns]\n"
     ]
    }
   ],
   "source": [
    "# Definir la ruta del archivo\n",
    "path = r\"C:\\Users\\SALVADOR\\OneDrive\\CEPLAN\\CeplanPythonCode\\Machine Learning\"\n",
    "file_path = os.path.join(path, \"BBDD Consulta Técnica 151024.xlsx\")\n",
    "\n",
    "# Abrir el archivo Excel\n",
    "df = pd.read_excel(file_path, engine=\"openpyxl\")\n",
    "\n",
    "# Mostrar el contenido del DataFrame\n",
    "print(df)\n"
   ]
  },
  {
   "cell_type": "code",
   "execution_count": null,
   "metadata": {},
   "outputs": [],
   "source": [
    "# Seleccionar columnas relevantes\n",
    "df_cut = df[[\"Apelativo\", \"Nombre completo\"]]"
   ]
  },
  {
   "cell_type": "code",
   "execution_count": null,
   "metadata": {},
   "outputs": [],
   "source": [
    "# Definir la ruta usando os.path.join\n",
    "path = r\"C:\\Users\\SALVADOR\\OneDrive\\CEPLAN\\CeplanPythonCode\\Machine Learning\"\n",
    "file_path = os.path.join(path, \"name_gender_dataset_full.csv\")\n",
    "\n",
    "# Abrir name_gender_dataset\n",
    "df2 = pd.read_csv(file_path)\n",
    "\n",
    "# Mostrar el contenido del DataFrame\n",
    "print(df2)"
   ]
  },
  {
   "cell_type": "markdown",
   "metadata": {},
   "source": [
    "## 2. Limpieza de títulos y otros caracteres"
   ]
  },
  {
   "cell_type": "code",
   "execution_count": 10,
   "metadata": {},
   "outputs": [
    {
     "name": "stdout",
     "output_type": "stream",
     "text": [
      "     Apelativo                  Nombre completo\n",
      "0          Sr.             Aaron Tuesta Sanchez\n",
      "1          Sr.             Abad Cornejo Escobar\n",
      "2          Sr.     Abanto Duran Roger Francisco\n",
      "3          Sr.  Abanto Justo Miranda Ravichagua\n",
      "4          Sr.     Abdel Alberto Arroyo Aguilar\n",
      "...        ...                              ...\n",
      "7843       NaN                  Yvanir Castillo\n",
      "7844       NaN            Zaida Huarachi Guzman\n",
      "7845       NaN         Zaira Joyce Bravo Ravelo\n",
      "7846       NaN          Zoila Rosa Rios Mimbela\n",
      "7847       NaN    Zoraida Nery Velasquez Julcaa\n",
      "\n",
      "[7848 rows x 2 columns]\n"
     ]
    }
   ],
   "source": [
    "# Seleccionar columnas relevantes\n",
    "df_cut = df[[\"Apelativo\", \"Nombre completo\"]]\n",
    "\n",
    "# Convertir el nombre completo a minúsculas y luego capitalizar la primera letra de cada palabra\n",
    "df_cut.loc[:, 'Nombre completo'] = df_cut['Nombre completo'].str.lower().str.title()\n",
    "\n",
    "# Eliminar los puntos y las comas del nombre completo\n",
    "df_cut.loc[:, 'Nombre completo'] = df_cut['Nombre completo'].str.replace(r'[.,]', '', regex=True)\n",
    "\n",
    "# Remover términos no deseados solo si están al inicio del nombre\n",
    "remove_titles = ['Lic', 'General', \"Coronel\", 'Pnp', 'Adm', \"Econ\", \"Eco\", \"Cpc\", \"Dr\", \"Ing\", \"Abg\", \"Cd\", \"Ma\", \"Cap\", \"Mc\", \"MC\", \"Mag\", \"Ng\", \"Profesor:\"]\n",
    "for title in remove_titles:\n",
    "    # Usar una expresión regular para eliminar los títulos solo si están al principio del nombre, seguidos por un espacio\n",
    "    df_cut.loc[:, 'Nombre completo'] = df_cut['Nombre completo'].str.replace(r'^' + title + r'\\s+', '', regex=True)\n",
    "\n",
    "# Remover números (de teléfono)\n",
    "df_cut.loc[:, 'Nombre completo'] = df_cut['Nombre completo'].str.replace(r'\\d+', '', regex=True)\n",
    "\n",
    "# Reemplazar múltiples espacios en blanco por un solo espacio\n",
    "df_cut.loc[:, 'Nombre completo'] = df_cut['Nombre completo'].str.replace(r'\\s+', ' ', regex=True)\n",
    "\n",
    "# Quitar espacios en blanco adicionales\n",
    "df_cut.loc[:, 'Nombre completo'] = df_cut['Nombre completo'].str.strip()\n",
    "\n",
    "# Si quieres guardar el resultado en un nuevo archivo Excel\n",
    "# df_cut.to_excel('ruta_a_guardar_el_archivo.xlsx', index=False)\n",
    "\n",
    "print(df_cut)\n"
   ]
  },
  {
   "cell_type": "code",
   "execution_count": 147,
   "metadata": {},
   "outputs": [
    {
     "name": "stdout",
     "output_type": "stream",
     "text": [
      "Apelativo                                Sr.\n",
      "Nombre completo    Abel Manuel Serna Herrera\n",
      "Name: 10, dtype: object\n",
      "Apelativo                          NaN\n",
      "Nombre completo    David Zea Gutierrez\n",
      "Name: 7570, dtype: object\n",
      "Apelativo                                   NaN\n",
      "Nombre completo    Carlos Alberto Abanto Ayasta\n",
      "Name: 7567, dtype: object\n"
     ]
    }
   ],
   "source": [
    "print(df_cut.iloc[10])\n",
    "print(df_cut.iloc[7570])\n",
    "print(df_cut.iloc[7567])"
   ]
  },
  {
   "cell_type": "markdown",
   "metadata": {},
   "source": [
    "## Checkpoint"
   ]
  },
  {
   "cell_type": "code",
   "execution_count": 149,
   "metadata": {},
   "outputs": [],
   "source": [
    "df_cut.to_excel(r\"C:\\Users\\SALVADOR\\OneDrive\\CEPLAN\\CeplanPythonCode\\Machine Learning\\Nombres_RyO.xlsx\", index=False)"
   ]
  },
  {
   "cell_type": "code",
   "execution_count": 11,
   "metadata": {},
   "outputs": [
    {
     "data": {
      "text/html": [
       "<div>\n",
       "<style scoped>\n",
       "    .dataframe tbody tr th:only-of-type {\n",
       "        vertical-align: middle;\n",
       "    }\n",
       "\n",
       "    .dataframe tbody tr th {\n",
       "        vertical-align: top;\n",
       "    }\n",
       "\n",
       "    .dataframe thead th {\n",
       "        text-align: right;\n",
       "    }\n",
       "</style>\n",
       "<table border=\"1\" class=\"dataframe\">\n",
       "  <thead>\n",
       "    <tr style=\"text-align: right;\">\n",
       "      <th></th>\n",
       "      <th>Apelativo</th>\n",
       "      <th>Nombre completo</th>\n",
       "    </tr>\n",
       "  </thead>\n",
       "  <tbody>\n",
       "    <tr>\n",
       "      <th>7003</th>\n",
       "      <td>NaN</td>\n",
       "      <td>Aldo Lázaro</td>\n",
       "    </tr>\n",
       "    <tr>\n",
       "      <th>7004</th>\n",
       "      <td>NaN</td>\n",
       "      <td>Angel Manuel Manero Campos</td>\n",
       "    </tr>\n",
       "    <tr>\n",
       "      <th>7005</th>\n",
       "      <td>NaN</td>\n",
       "      <td>Angela Teresa Hernandez Cajo</td>\n",
       "    </tr>\n",
       "    <tr>\n",
       "      <th>7006</th>\n",
       "      <td>NaN</td>\n",
       "      <td>Anne Ávalos</td>\n",
       "    </tr>\n",
       "    <tr>\n",
       "      <th>7007</th>\n",
       "      <td>NaN</td>\n",
       "      <td>Benjamin Villa</td>\n",
       "    </tr>\n",
       "    <tr>\n",
       "      <th>...</th>\n",
       "      <td>...</td>\n",
       "      <td>...</td>\n",
       "    </tr>\n",
       "    <tr>\n",
       "      <th>7843</th>\n",
       "      <td>NaN</td>\n",
       "      <td>Yvanir Castillo</td>\n",
       "    </tr>\n",
       "    <tr>\n",
       "      <th>7844</th>\n",
       "      <td>NaN</td>\n",
       "      <td>Zaida Huarachi Guzman</td>\n",
       "    </tr>\n",
       "    <tr>\n",
       "      <th>7845</th>\n",
       "      <td>NaN</td>\n",
       "      <td>Zaira Joyce Bravo Ravelo</td>\n",
       "    </tr>\n",
       "    <tr>\n",
       "      <th>7846</th>\n",
       "      <td>NaN</td>\n",
       "      <td>Zoila Rosa Rios Mimbela</td>\n",
       "    </tr>\n",
       "    <tr>\n",
       "      <th>7847</th>\n",
       "      <td>NaN</td>\n",
       "      <td>Zoraida Nery Velasquez Julcaa</td>\n",
       "    </tr>\n",
       "  </tbody>\n",
       "</table>\n",
       "<p>845 rows × 2 columns</p>\n",
       "</div>"
      ],
      "text/plain": [
       "     Apelativo                Nombre completo\n",
       "7003       NaN                    Aldo Lázaro\n",
       "7004       NaN     Angel Manuel Manero Campos\n",
       "7005       NaN   Angela Teresa Hernandez Cajo\n",
       "7006       NaN                    Anne Ávalos\n",
       "7007       NaN                 Benjamin Villa\n",
       "...        ...                            ...\n",
       "7843       NaN                Yvanir Castillo\n",
       "7844       NaN          Zaida Huarachi Guzman\n",
       "7845       NaN       Zaira Joyce Bravo Ravelo\n",
       "7846       NaN        Zoila Rosa Rios Mimbela\n",
       "7847       NaN  Zoraida Nery Velasquez Julcaa\n",
       "\n",
       "[845 rows x 2 columns]"
      ]
     },
     "execution_count": 11,
     "metadata": {},
     "output_type": "execute_result"
    }
   ],
   "source": [
    "# Seleccionar nombres que no tengan apelativos aún\n",
    "df_nan = df_cut.loc[df_cut.isna().any(axis=1)]\n",
    "df_nan"
   ]
  },
  {
   "cell_type": "markdown",
   "metadata": {},
   "source": [
    "## 3. Añadir apelativos"
   ]
  },
  {
   "cell_type": "code",
   "execution_count": 13,
   "metadata": {},
   "outputs": [
    {
     "name": "stdout",
     "output_type": "stream",
     "text": [
      "845\n",
      "                             Nombre Apelativo\n",
      "7003                    Aldo Lázaro       Sr.\n",
      "7004     Angel Manuel Manero Campos       Sr.\n",
      "7005   Angela Teresa Hernandez Cajo      Sra.\n",
      "7006                    Anne Ávalos      Sra.\n",
      "7007                 Benjamin Villa       Sr.\n",
      "...                             ...       ...\n",
      "7843                Yvanir Castillo      Sra.\n",
      "7844          Zaida Huarachi Guzman      Sra.\n",
      "7845       Zaira Joyce Bravo Ravelo      Sra.\n",
      "7846        Zoila Rosa Rios Mimbela      Sra.\n",
      "7847  Zoraida Nery Velasquez Julcaa      Sra.\n",
      "\n",
      "[845 rows x 2 columns]\n"
     ]
    }
   ],
   "source": [
    "\n",
    "def añadir_apelativo(lista_nombres, masculinos, femeninos):\n",
    "    apelativo = []\n",
    "\n",
    "    for nombre_completo in lista_nombres:\n",
    "        # Limpiar y dividir el nombre en partes individuales\n",
    "        partes_nombre = unidecode.unidecode(nombre_completo).lower() \n",
    "        partes_nombre = partes_nombre.strip().split()\n",
    "        #print(partes_nombre)\n",
    "        \n",
    "        # Variable para determinar el apelativo\n",
    "        apelativo_nombre = \"Sr./Sra.\"\n",
    "        \n",
    "        for parte in partes_nombre:\n",
    "            # Verificar si la parte del nombre está en las listas de masculinos o femeninos\n",
    "            if parte in masculinos:\n",
    "                apelativo_nombre = \"Sr.\"\n",
    "                break  # No es necesario seguir buscando si ya se encontró un masculino\n",
    "            elif parte in femeninos:\n",
    "                apelativo_nombre = \"Sra.\"\n",
    "                break  # No es necesario seguir buscando si ya se encontró una femenina\n",
    "            \n",
    "        \n",
    "        apelativo.append(apelativo_nombre)\n",
    "    \n",
    "    # Crear un DataFrame con los nombres y apelativos\n",
    "    df = pd.DataFrame({\n",
    "        'Nombre': lista_nombres,\n",
    "        'Apelativo': apelativo\n",
    "    })\n",
    "    \n",
    "    return df\n",
    "\n",
    "# Suponiendo que tienes una lista de nombres y tienes nombres_h_clean y nombres_m_clean definidos previamente\n",
    "# Lista de nombres de ejemplo\n",
    "lista_nombres = df_nan[\"Nombre completo\"]\n",
    "nombres_masculinos = df2[df2['genero'] == 'masculino']['nombre'].tolist()\n",
    "nombres_femeninos = df2[df2['genero'] == 'femenino']['nombre'].tolist()\n",
    "df_apelativos = añadir_apelativo(lista_nombres, nombres_masculinos, nombres_femeninos)\n",
    "\n",
    "print(len(df_apelativos))\n",
    "print(df_apelativos)\n"
   ]
  },
  {
   "cell_type": "code",
   "execution_count": 14,
   "metadata": {},
   "outputs": [],
   "source": [
    "# Exportar\n",
    "df_apelativos.to_excel(r\"C:\\Users\\SALVADOR\\OneDrive\\CEPLAN\\CeplanPythonCode\\Machine Learning\\prueba.xlsx\", index=False)\n",
    "df_apelativos.to_excel(r\"C:\\Users\\SALVADOR\\OneDrive\\CEPLAN\\CeplanPythonCode\\Machine Learning\\Apelativos_RyO.xlsx\", index=False)"
   ]
  }
 ],
 "metadata": {
  "kernelspec": {
   "display_name": "Python 3",
   "language": "python",
   "name": "python3"
  },
  "language_info": {
   "codemirror_mode": {
    "name": "ipython",
    "version": 3
   },
   "file_extension": ".py",
   "mimetype": "text/x-python",
   "name": "python",
   "nbconvert_exporter": "python",
   "pygments_lexer": "ipython3",
   "version": "3.10.7"
  }
 },
 "nbformat": 4,
 "nbformat_minor": 2
}
